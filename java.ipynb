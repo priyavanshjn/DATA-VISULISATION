{
  "nbformat": 4,
  "nbformat_minor": 0,
  "metadata": {
    "colab": {
      "provenance": [],
      "authorship_tag": "ABX9TyPUDrDAZZpqt0/+VNBv+dbA",
      "include_colab_link": true
    },
    "kernelspec": {
      "name": "python3",
      "display_name": "Python 3"
    },
    "language_info": {
      "name": "python"
    }
  },
  "cells": [
    {
      "cell_type": "markdown",
      "metadata": {
        "id": "view-in-github",
        "colab_type": "text"
      },
      "source": [
        "<a href=\"https://colab.research.google.com/github/priyavanshjn/DATA-VISULISATION/blob/main/java.ipynb\" target=\"_parent\"><img src=\"https://colab.research.google.com/assets/colab-badge.svg\" alt=\"Open In Colab\"/></a>"
      ]
    },
    {
      "cell_type": "code",
      "execution_count": null,
      "metadata": {
        "id": "5VwYt1Lqwm2e"
      },
      "outputs": [],
      "source": [
        "import time\n",
        "import os\n",
        "\n",
        "def generate_file(filename, size):\n",
        "    l = \"this is a line of text for benchmarking purposes.\\n\"\n",
        "    cnt = (size * 1024 * 1024) // len(l)\n",
        "    with open(filename, \"w\") as f:\n",
        "        for _ in range(cnt):\n",
        "            f.write(l)\n",
        "\n",
        "def convert_to_uppercase(input_file, output_file):\n",
        "    start = time.time()\n",
        "    with open(input_file, \"r\") as infile, open(output_file, \"w\") as outfile:\n",
        "        for line in infile:\n",
        "            outfile.write(line.upper())\n",
        "    end = time.time()\n",
        "    return round(end - start, 2)\n",
        "\n",
        "sizes = [200, 400, 600, 800, 1000]\n",
        "\n",
        "times=[]\n",
        "for size in sizes:\n",
        "    fname = f\"input_{size}MB.txt\"\n",
        "    print(f\"\\nGenerating {fname}...\")\n",
        "    generate_file(fname, size)\n",
        "    print(f\"Converting {fname} to uppercase...\")\n",
        "    t = convert_to_uppercase(fname, f\"output_{size}MB.txt\")\n",
        "    print(f\"Size: {size}MB | Time: {t} sec\")\n",
        "    times.append(t)\n",
        "print(times)"
      ]
    }
  ]
}